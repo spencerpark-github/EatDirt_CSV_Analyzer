{
 "cells": [
  {
   "cell_type": "markdown",
   "metadata": {},
   "source": [
    "# Eat Dirt CSV Analyzer"
   ]
  },
  {
   "cell_type": "markdown",
   "metadata": {},
   "source": [
    "This note book is designed to analyze the current order print outs from the EatDirt admin website as of 3/21/2024"
   ]
  },
  {
   "cell_type": "code",
   "execution_count": 1,
   "metadata": {},
   "outputs": [
    {
     "name": "stdout",
     "output_type": "stream",
     "text": [
      "c:\\Users\\spenc\\Desktop\\EatDirt\\CSV_Item_Counter\n"
     ]
    }
   ],
   "source": [
    "#First lets set up our enviroment and select the right file\n",
    "\n",
    "import csv\n",
    "import re\n",
    "import os\n",
    "print(os.getcwd())\n",
    "\n",
    "# Inorder to analyze the data add your csv file to that same folder as this program and edit the name here to the file name\n",
    "eatdirt_csv_file = r'example.csv' "
   ]
  },
  {
   "cell_type": "markdown",
   "metadata": {},
   "source": [
    "Next lets define the lists the csv data will be organized into. In this case these will be the collumn names"
   ]
  },
  {
   "cell_type": "code",
   "execution_count": 2,
   "metadata": {},
   "outputs": [],
   "source": [
    "customer_names = []\n",
    "delivery_dates = []\n",
    "order_statuses = []\n",
    "admin_notes = []\n",
    "order_numbers = []\n",
    "plan_names = []\n",
    "mixins_category = []\n",
    "toppings_category = []\n",
    "proteins_category = []\n",
    "dressings_category = []\n",
    "bases_category = []\n",
    "delivery_names = []\n",
    "addresses = []\n",
    "phone = []\n",
    "email = []\n",
    "delivery_instructions = []\n"
   ]
  },
  {
   "cell_type": "markdown",
   "metadata": {},
   "source": [
    "This function will be used to fill the lists above with the data from the csv"
   ]
  },
  {
   "cell_type": "code",
   "execution_count": 3,
   "metadata": {},
   "outputs": [],
   "source": [
    "def load_csv_data(data_list, csv_file, column_name):\n",
    "    with open(csv_file) as csv_info:\n",
    "        csv_dict = csv.DictReader(csv_info)\n",
    "        for row in csv_dict:\n",
    "            if column_name in row:  # Simple error handling\n",
    "                data_list.append(row[column_name])"
   ]
  },
  {
   "cell_type": "markdown",
   "metadata": {},
   "source": [
    "Now lets use this function to organize our data"
   ]
  },
  {
   "cell_type": "code",
   "execution_count": 4,
   "metadata": {},
   "outputs": [],
   "source": [
    "load_csv_data(customer_names, eatdirt_csv_file, 'Customer Name')\n",
    "load_csv_data(delivery_dates, eatdirt_csv_file, 'Delivery Date')\n",
    "load_csv_data(order_statuses, eatdirt_csv_file, 'Order Status')\n",
    "load_csv_data(admin_notes, eatdirt_csv_file, 'Admin Note')\n",
    "load_csv_data(order_numbers, eatdirt_csv_file, 'Order Number')\n",
    "load_csv_data(plan_names, eatdirt_csv_file, 'Plan Name')\n",
    "load_csv_data(mixins_category, eatdirt_csv_file, 'Category Mixins')\n",
    "load_csv_data(toppings_category, eatdirt_csv_file, 'Category Toppings')\n",
    "load_csv_data(proteins_category, eatdirt_csv_file, 'Category Proteins')\n",
    "load_csv_data(dressings_category, eatdirt_csv_file, 'Category Dressings')\n",
    "load_csv_data(bases_category, eatdirt_csv_file, 'Category Bases')\n",
    "load_csv_data(delivery_names, eatdirt_csv_file, 'Delivery name')\n",
    "load_csv_data(addresses, eatdirt_csv_file, 'Address')\n",
    "load_csv_data(phone, eatdirt_csv_file, 'Phone')\n",
    "load_csv_data(email, eatdirt_csv_file, 'Email')\n",
    "load_csv_data(delivery_instructions, eatdirt_csv_file, 'Delivery Instruction')"
   ]
  },
  {
   "cell_type": "markdown",
   "metadata": {},
   "source": [
    "A new class will now be made so we can play around with our data. New functions and ways of analyzing it will be put in here"
   ]
  },
  {
   "cell_type": "code",
   "execution_count": 9,
   "metadata": {},
   "outputs": [],
   "source": [
    "class Eat_Dirt_Orders:\n",
    "    def __init__(self, customer_names, delivery_dates, order_statuses, admin_notes, order_numbers, plan_names, mixins_category, toppings_category, proteins_category, dressings_category, bases_category, delivery_names, addresses, phone, email, delivery_instructions):\n",
    "        self.customer_names = customer_names\n",
    "        self.delivery_dates = delivery_dates\n",
    "        self.order_statuses = order_statuses\n",
    "        self.admin_notes = admin_notes\n",
    "        self.order_numbers = order_numbers\n",
    "        self.plan_names = plan_names\n",
    "        self.mixins = mixins_category\n",
    "        self.toppings = toppings_category\n",
    "        self.proteins = proteins_category\n",
    "        self.dressings = dressings_category\n",
    "        self.bases = bases_category\n",
    "        self.delivery_names = delivery_names\n",
    "        self.addresses = addresses\n",
    "        self.phone = phone\n",
    "        self.emails = email\n",
    "        self.delivery_instructions = delivery_instructions\n",
    "    \n",
    "\n",
    "    \n",
    "    # This function goes through the different item categories and counts up each item returning a dictionary with the results \n",
    "    def item_count(self, item_category):\n",
    "        item_counts = {}\n",
    "        \n",
    "        for row in item_category:\n",
    "            # Ensure row is a string and not empty\n",
    "            if not isinstance(row, str) or not row.strip():\n",
    "                continue\n",
    "\n",
    "            split_list = row.split(',')\n",
    "            \n",
    "            for item in split_list:\n",
    "                item = item.strip()  # Remove leading/trailing whitespace\n",
    "                \n",
    "                # Skip if item is empty after stripping whitespace\n",
    "                if not item:\n",
    "                    continue\n",
    "                \n",
    "                # Check and extract item name and count if present\n",
    "                match = re.match(r\"(.+?) \\((\\d+)\\)$\", item)\n",
    "                if match:\n",
    "                    item_name, item_count = match.groups()\n",
    "                    item_count = int(item_count)\n",
    "                else:\n",
    "                    item_name = item\n",
    "                    item_count = 1\n",
    "\n",
    "                # Add or update the count for this item\n",
    "                if item_name in item_counts:\n",
    "                    item_counts[item_name] += item_count\n",
    "                else:\n",
    "                    item_counts[item_name] = item_count\n",
    "                \n",
    "        return item_counts\n",
    "\n",
    "    def total_items(self):\n",
    "        result = {\n",
    "            'Bases':self.item_count(self.bases),\n",
    "            'Mixins':self.item_count(self.mixins),\n",
    "            'Toppings':self.item_count(self.toppings),\n",
    "            'Proteins':self.item_count(self.proteins),\n",
    "            'Dressings':self.item_count(self.dressings)\n",
    "        }\n",
    "        return result\n"
   ]
  },
  {
   "cell_type": "markdown",
   "metadata": {},
   "source": [
    "Now lets create an instance of our data so we can play around with it"
   ]
  },
  {
   "cell_type": "code",
   "execution_count": 10,
   "metadata": {},
   "outputs": [],
   "source": [
    "order_data = Eat_Dirt_Orders(customer_names, delivery_dates, order_statuses, admin_notes, order_numbers, plan_names, mixins_category, toppings_category, proteins_category, dressings_category, bases_category, delivery_names, addresses, phone, email, delivery_instructions)"
   ]
  },
  {
   "cell_type": "markdown",
   "metadata": {},
   "source": [
    "# Analyze The Data"
   ]
  },
  {
   "cell_type": "markdown",
   "metadata": {},
   "source": [
    "What are the total counts of the items?"
   ]
  },
  {
   "cell_type": "code",
   "execution_count": 11,
   "metadata": {},
   "outputs": [
    {
     "name": "stdout",
     "output_type": "stream",
     "text": [
      "{'Bases': {'Spinach': 4, 'Baby Kale': 4, 'Romaine': 1, 'EatDirt Blend': 5}, 'Mixins': {'Broccoli': 6, 'Grape Tomato': 4, 'Rainbow Carrots': 1, 'Mushrooms': 4, 'Purple Cabbage': 3, 'Radishes': 5, 'Edamame': 2, 'Roasted Sweet Potato': 1, 'Red Bell Pepper': 1, 'Red Onion': 1}, 'Toppings': {'Shaved Parmesan': 3, 'Pita Chips': 3, 'Chickpeas': 3, 'Dried Cranberries': 4, 'Sunflower Seeds': 4, 'Crispy JalapeÃ±os': 2, 'Slivered Almonds': 2, 'Feta Cheese': 2, 'Crunchy Onions': 1, 'Bacon Bits': 4}, 'Proteins': {'Baked Tofu': 6, 'Steak Strips': 5, 'Chicken Strips': 3}, 'Dressings': {'Honey Mustard': 3, 'Ranch': 2, 'Greek Vinaigrette': 4, 'EatDirt Sauce': 2, 'Balsamic': 3}}\n"
     ]
    }
   ],
   "source": [
    "print(order_data.total_items())"
   ]
  }
 ],
 "metadata": {
  "kernelspec": {
   "display_name": "Python 3",
   "language": "python",
   "name": "python3"
  },
  "language_info": {
   "codemirror_mode": {
    "name": "ipython",
    "version": 3
   },
   "file_extension": ".py",
   "mimetype": "text/x-python",
   "name": "python",
   "nbconvert_exporter": "python",
   "pygments_lexer": "ipython3",
   "version": "3.11.5"
  }
 },
 "nbformat": 4,
 "nbformat_minor": 2
}
